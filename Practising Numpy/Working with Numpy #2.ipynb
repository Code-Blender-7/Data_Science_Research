{
 "cells": [
  {
   "cell_type": "code",
   "execution_count": 1,
   "id": "2c30ce64",
   "metadata": {},
   "outputs": [],
   "source": [
    "import numpy as np\n",
    "np.random.seed(0) # Randomness locked at specific "
   ]
  },
  {
   "cell_type": "code",
   "execution_count": 8,
   "id": "b8839d68",
   "metadata": {},
   "outputs": [
    {
     "name": "stdout",
     "output_type": "stream",
     "text": [
      "[[1 2 3]\n",
      " [4 5 6]\n",
      " [7 8 9]]\n"
     ]
    }
   ],
   "source": [
    "# Use reshape to turn a single dimensional to multi\n",
    "grid = np.arange(1,10).reshape((3 , 3))\n",
    "\n",
    "print(grid)"
   ]
  },
  {
   "cell_type": "code",
   "execution_count": 14,
   "id": "d35a2037",
   "metadata": {},
   "outputs": [
    {
     "data": {
      "text/plain": [
       "array([1, 2, 3])"
      ]
     },
     "execution_count": 14,
     "metadata": {},
     "output_type": "execute_result"
    }
   ],
   "source": [
    "x = np.array([1,2,3])\n",
    "x"
   ]
  },
  {
   "cell_type": "code",
   "execution_count": 15,
   "id": "32bd0da9",
   "metadata": {},
   "outputs": [
    {
     "data": {
      "text/plain": [
       "array([[1, 2, 3]])"
      ]
     },
     "execution_count": 15,
     "metadata": {},
     "output_type": "execute_result"
    }
   ],
   "source": [
    "x.reshape((1,3)) # Same Output"
   ]
  },
  {
   "cell_type": "code",
   "execution_count": 20,
   "id": "aa182e3e",
   "metadata": {},
   "outputs": [
    {
     "data": {
      "text/plain": [
       "array([[1],\n",
       "       [2],\n",
       "       [3]])"
      ]
     },
     "execution_count": 20,
     "metadata": {},
     "output_type": "execute_result"
    }
   ],
   "source": [
    "# Reshaping without using positional index\n",
    "x.reshape((3 , 1))"
   ]
  },
  {
   "cell_type": "code",
   "execution_count": 40,
   "id": "2df28210",
   "metadata": {},
   "outputs": [
    {
     "data": {
      "text/plain": [
       "array([1, 2, 3, 5, 2, 3, 6, 6, 6])"
      ]
     },
     "execution_count": 40,
     "metadata": {},
     "output_type": "execute_result"
    }
   ],
   "source": [
    "np.random.seed(0)\n",
    "# Joining arrays without using for loop\n",
    "\n",
    "x1 = np.array([1,2,3])\n",
    "y1 = np.array([5,2,3]) # [3, 2, 1]\n",
    "z1 = np.array([6 , 6 , 6 ])\n",
    "\n",
    "# you can try concatenate for that.\n",
    "np.concatenate([x1 , y1 , z1])"
   ]
  },
  {
   "cell_type": "code",
   "execution_count": 43,
   "id": "f629ae72",
   "metadata": {},
   "outputs": [
    {
     "data": {
      "text/plain": [
       "array([[1, 2, 3],\n",
       "       [4, 5, 6],\n",
       "       [7, 8, 9],\n",
       "       [1, 2, 3],\n",
       "       [4, 5, 6],\n",
       "       [7, 8, 9],\n",
       "       [1, 2, 3],\n",
       "       [4, 5, 6],\n",
       "       [7, 8, 9]])"
      ]
     },
     "execution_count": 43,
     "metadata": {},
     "output_type": "execute_result"
    }
   ],
   "source": [
    "# Going overboard with concatenate\n",
    "# Always remember to use a 3rd bracket as well\n",
    "\n",
    "np.concatenate([grid, grid, grid])"
   ]
  },
  {
   "cell_type": "code",
   "execution_count": 47,
   "id": "828aeb9b",
   "metadata": {},
   "outputs": [
    {
     "data": {
      "text/plain": [
       "array([[1, 2, 3, 1, 2, 3, 1, 2, 3],\n",
       "       [4, 5, 6, 4, 5, 6, 4, 5, 6],\n",
       "       [7, 8, 9, 7, 8, 9, 7, 8, 9]])"
      ]
     },
     "execution_count": 47,
     "metadata": {},
     "output_type": "execute_result"
    }
   ],
   "source": [
    "# CONCATENATE WITH AXIS?\n",
    "np.concatenate([grid, grid, grid], axis=1)\n",
    "# Axis breaks a 3 row 9 columns to 9 rows 3 columns"
   ]
  },
  {
   "cell_type": "code",
   "execution_count": 48,
   "id": "80a030b2",
   "metadata": {},
   "outputs": [
    {
     "data": {
      "text/plain": [
       "array([[1, 2, 3],\n",
       "       [1, 2, 3],\n",
       "       [4, 5, 6]])"
      ]
     },
     "execution_count": 48,
     "metadata": {},
     "output_type": "execute_result"
    }
   ],
   "source": [
    "# Joining a single dimensional with multi \n",
    "# Use vstack to vertically stack \n",
    "# arrays are added to the columns\n",
    "\n",
    "x2 = np.array([1 , 2 , 3])\n",
    "y2 = np.array([[1 , 2 , 3],\n",
    "               [4 , 5 , 6]])\n",
    "np.vstack([x2 , y2])"
   ]
  },
  {
   "cell_type": "code",
   "execution_count": 63,
   "id": "bcb66c10",
   "metadata": {},
   "outputs": [
    {
     "data": {
      "text/plain": [
       "array([[1, 2, 3],\n",
       "       [4, 5, 6]])"
      ]
     },
     "execution_count": 63,
     "metadata": {},
     "output_type": "execute_result"
    }
   ],
   "source": [
    "# You can use hshift to horizontaly stack them\n",
    "# Arrays are added to the rows\n",
    "y3 = [[99],\n",
    "      [99]]\n",
    "# np.hstack([grid, y3])\n",
    "# HUH?\n",
    "gridNEW = np.arange(1, 7).reshape(2,3)\n",
    "gridNEW"
   ]
  },
  {
   "cell_type": "code",
   "execution_count": 84,
   "id": "b77ae7bc",
   "metadata": {},
   "outputs": [
    {
     "name": "stdout",
     "output_type": "stream",
     "text": [
      "[1 2 3 5] [2] [3 6 6 6]\n"
     ]
    }
   ],
   "source": [
    "# Splitting an array\n",
    "# Finding the mid-point of an array\n",
    "# EX_1 = array([1, 2, 3, 5, 2, 3, 6, 6, 6])\n",
    "\n",
    "EX_1 = np.concatenate([x1 , y1 , z1])\n",
    "# Using the positional indexes\n",
    "ex1, mid-point, ex3 = np.split(EX_1 , [4,5]) \n",
    "print(ex1, mid-point, ex3)"
   ]
  },
  {
   "cell_type": "code",
   "execution_count": 86,
   "id": "e3bd2fa3",
   "metadata": {},
   "outputs": [
    {
     "data": {
      "text/plain": [
       "array([[ 0,  1,  2,  3],\n",
       "       [ 4,  5,  6,  7],\n",
       "       [ 8,  9, 10, 11],\n",
       "       [12, 13, 14, 15]])"
      ]
     },
     "execution_count": 86,
     "metadata": {},
     "output_type": "execute_result"
    }
   ],
   "source": [
    "# Arrange the split in vertical\n",
    "# works on arrays of multi-dimensional\n",
    "\n",
    "grid = np.arange(16).reshape(4 , 4)\n",
    "grid"
   ]
  },
  {
   "cell_type": "code",
   "execution_count": 98,
   "id": "97176b96",
   "metadata": {},
   "outputs": [
    {
     "data": {
      "text/plain": [
       "[array([[0, 1, 2, 3],\n",
       "        [4, 5, 6, 7]]),\n",
       " array([[ 8,  9, 10, 11],\n",
       "        [12, 13, 14, 15]])]"
      ]
     },
     "execution_count": 98,
     "metadata": {},
     "output_type": "execute_result"
    }
   ],
   "source": [
    "# variable now contains two arrays\n",
    "splited = np.vsplit(grid , [2])\n",
    "splited"
   ]
  },
  {
   "cell_type": "code",
   "execution_count": 99,
   "id": "11a2c9d8",
   "metadata": {},
   "outputs": [
    {
     "name": "stdout",
     "output_type": "stream",
     "text": [
      "[[0 1 2 3]\n",
      " [4 5 6 7]]\n",
      "[[ 8  9 10 11]\n",
      " [12 13 14 15]]\n"
     ]
    }
   ],
   "source": [
    "# Assigning the values to the separate variables\n",
    "split_1 , split_2 = splited\n",
    "print(split_1)\n",
    "print(split_2)"
   ]
  },
  {
   "cell_type": "code",
   "execution_count": 101,
   "id": "230c999b",
   "metadata": {},
   "outputs": [
    {
     "name": "stdout",
     "output_type": "stream",
     "text": [
      "[[ 0  1]\n",
      " [ 4  5]\n",
      " [ 8  9]\n",
      " [12 13]]\n",
      "[[ 2  3]\n",
      " [ 6  7]\n",
      " [10 11]\n",
      " [14 15]]\n"
     ]
    }
   ],
   "source": [
    "split_3 , split_4 = np.hsplit(grid, [2])\n",
    "print(split_3)\n",
    "print(split_4)"
   ]
  },
  {
   "cell_type": "code",
   "execution_count": null,
   "id": "a499d569",
   "metadata": {},
   "outputs": [],
   "source": []
  }
 ],
 "metadata": {
  "kernelspec": {
   "display_name": "Python 3",
   "language": "python",
   "name": "python3"
  },
  "language_info": {
   "codemirror_mode": {
    "name": "ipython",
    "version": 3
   },
   "file_extension": ".py",
   "mimetype": "text/x-python",
   "name": "python",
   "nbconvert_exporter": "python",
   "pygments_lexer": "ipython3",
   "version": "3.9.1"
  }
 },
 "nbformat": 4,
 "nbformat_minor": 5
}
