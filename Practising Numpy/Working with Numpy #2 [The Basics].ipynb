{
 "cells": [
  {
   "cell_type": "code",
   "execution_count": 1,
   "id": "6cd0b3d0",
   "metadata": {},
   "outputs": [],
   "source": [
    "import numpy as np"
   ]
  },
  {
   "cell_type": "code",
   "execution_count": 30,
   "id": "4c9d085e",
   "metadata": {},
   "outputs": [
    {
     "name": "stdout",
     "output_type": "stream",
     "text": [
      "[[5 0 3 3]\n",
      " [7 9 3 5]\n",
      " [2 4 7 6]\n",
      " [8 8 1 6]]\n",
      "x2 ndim:  2\n",
      "x2 shape: (4, 4)\n",
      "x2 size:  16\n"
     ]
    }
   ],
   "source": [
    "np.random.seed(0) # seed for reproducibility\n",
    "\n",
    "# creating dimensions\n",
    "# syntax(first , last, size(dimension , dimension , dimension))\n",
    "\n",
    "x2 = np.random.randint(0 , 10, size=(4 , 4))\n",
    "\n",
    "print(x2)\n",
    "\n",
    "print(\"x2 ndim: \", x2.ndim)\n",
    "print(\"x2 shape:\", x2.shape)\n",
    "print(\"x2 size: \", x2.size) # dimension x dimension == array.size\n",
    "\n",
    "# use ndim to find number of dimension\n",
    "# use shape to find the size of each of the dimension\n",
    "# use size to find the total size of each of the dimension"
   ]
  },
  {
   "cell_type": "code",
   "execution_count": 31,
   "id": "f1bd5e5a",
   "metadata": {},
   "outputs": [
    {
     "name": "stdout",
     "output_type": "stream",
     "text": [
      "dtype :  int32\n"
     ]
    }
   ],
   "source": [
    "# trying to know the data type?\n",
    "# try this!\n",
    "print(\"dtype : \" , x2.dtype)"
   ]
  },
  {
   "cell_type": "code",
   "execution_count": 32,
   "id": "74da473f",
   "metadata": {},
   "outputs": [
    {
     "name": "stdout",
     "output_type": "stream",
     "text": [
      "itemsize: 4 bytes\n",
      "nbytes: 64 bytes\n"
     ]
    }
   ],
   "source": [
    "# To find out the total size of the list or array, Try this!\n",
    "print(\"itemsize:\", x2.itemsize, \"bytes\")\n",
    "print(\"nbytes:\", x2.nbytes, \"bytes\")"
   ]
  },
  {
   "cell_type": "code",
   "execution_count": 46,
   "id": "ac6ab49f",
   "metadata": {},
   "outputs": [],
   "source": [
    "# Change data inside an array using index!!\n",
    "x2\n",
    "# Change the 2nd int of the 3rd array to \"25\n",
    "x2[1, 2] = 25\n",
    "\n",
    "\n",
    "# Warning!\n",
    "\n",
    "# numpy.array has a fixed value type. changing it can lead to Error!\n",
    "# =============== EXAMPLE =================\n",
    "# Change the whole 2nd int of every array to \"string\"\n",
    "# x2[null, 2] = \"string\"\n",
    "# throws an error"
   ]
  },
  {
   "cell_type": "code",
   "execution_count": 6,
   "id": "1cd1a69b",
   "metadata": {},
   "outputs": [
    {
     "data": {
      "text/plain": [
       "array([0, 8, 4, 4, 2, 0])"
      ]
     },
     "execution_count": 6,
     "metadata": {},
     "output_type": "execute_result"
    }
   ],
   "source": [
    "import numpy as np\n",
    "\n",
    "x1 = np.random.randint(0 , 10 , size=(6))\n",
    "x1"
   ]
  },
  {
   "cell_type": "markdown",
   "id": "b931039e",
   "metadata": {},
   "source": [
    "x1[0] = 3.1416 # float, will be shorten"
   ]
  },
  {
   "cell_type": "code",
   "execution_count": 7,
   "id": "25c0d308",
   "metadata": {},
   "outputs": [],
   "source": [
    "x1[0] = 3.1416 # float, will be shorten"
   ]
  },
  {
   "cell_type": "code",
   "execution_count": 8,
   "id": "4ead4b55",
   "metadata": {},
   "outputs": [
    {
     "data": {
      "text/plain": [
       "3"
      ]
     },
     "execution_count": 8,
     "metadata": {},
     "output_type": "execute_result"
    }
   ],
   "source": [
    "x1[0]"
   ]
  },
  {
   "cell_type": "code",
   "execution_count": 9,
   "id": "f0931f73",
   "metadata": {},
   "outputs": [
    {
     "data": {
      "text/plain": [
       "array([3, 8, 4, 4, 2, 0])"
      ]
     },
     "execution_count": 9,
     "metadata": {},
     "output_type": "execute_result"
    }
   ],
   "source": [
    "x1"
   ]
  },
  {
   "cell_type": "code",
   "execution_count": 10,
   "id": "3c064dc6",
   "metadata": {},
   "outputs": [
    {
     "data": {
      "text/plain": [
       "array([3])"
      ]
     },
     "execution_count": 10,
     "metadata": {},
     "output_type": "execute_result"
    }
   ],
   "source": [
    "x1[:1] # elements before position 1"
   ]
  },
  {
   "cell_type": "code",
   "execution_count": 11,
   "id": "5cd72705",
   "metadata": {},
   "outputs": [
    {
     "data": {
      "text/plain": [
       "array([8, 4, 4, 2, 0])"
      ]
     },
     "execution_count": 11,
     "metadata": {},
     "output_type": "execute_result"
    }
   ],
   "source": [
    "x1[1:] # elemets after position 1"
   ]
  },
  {
   "cell_type": "code",
   "execution_count": 12,
   "id": "c64d35e5",
   "metadata": {},
   "outputs": [
    {
     "data": {
      "text/plain": [
       "array([0, 1, 2, 3, 4, 5, 6, 7, 8, 9])"
      ]
     },
     "execution_count": 12,
     "metadata": {},
     "output_type": "execute_result"
    }
   ],
   "source": [
    "Xnew = np.arange(10)\n",
    "Xnew"
   ]
  },
  {
   "cell_type": "code",
   "execution_count": 14,
   "id": "d88e3165",
   "metadata": {},
   "outputs": [
    {
     "data": {
      "text/plain": [
       "array([9, 7, 5, 3, 1])"
      ]
     },
     "execution_count": 14,
     "metadata": {},
     "output_type": "execute_result"
    }
   ],
   "source": [
    "Xnew[::-2] # Odd numbers starting at last int to first using a 2 interval"
   ]
  },
  {
   "cell_type": "code",
   "execution_count": 20,
   "id": "9d832031",
   "metadata": {},
   "outputs": [
    {
     "data": {
      "text/plain": [
       "array([9, 7, 5, 3, 1])"
      ]
     },
     "execution_count": 20,
     "metadata": {},
     "output_type": "execute_result"
    }
   ],
   "source": [
    "# Goes reverse printing the array\n",
    "Xnew[::-2] \n",
    "# At a 2 interval"
   ]
  },
  {
   "cell_type": "code",
   "execution_count": 19,
   "id": "56100bf7",
   "metadata": {},
   "outputs": [
    {
     "data": {
      "text/plain": [
       "array([9, 8, 7, 6, 5, 4, 3, 2, 1, 0])"
      ]
     },
     "execution_count": 19,
     "metadata": {},
     "output_type": "execute_result"
    }
   ],
   "source": [
    "Xnew[::-1] # At a 1 interval"
   ]
  },
  {
   "cell_type": "code",
   "execution_count": 22,
   "id": "51b269af",
   "metadata": {},
   "outputs": [
    {
     "data": {
      "text/plain": [
       "array([5, 3, 1])"
      ]
     },
     "execution_count": 22,
     "metadata": {},
     "output_type": "execute_result"
    }
   ],
   "source": [
    "# REMEMBER - x[start:stop:step]\n",
    "# DEMO\n",
    "Xnew[5::-2]"
   ]
  },
  {
   "cell_type": "code",
   "execution_count": 99,
   "id": "3c3e8da4",
   "metadata": {},
   "outputs": [
    {
     "data": {
      "text/plain": [
       "array([[5, 0, 3, 3],\n",
       "       [7, 9, 3, 5],\n",
       "       [2, 4, 7, 6],\n",
       "       [8, 8, 1, 6]])"
      ]
     },
     "execution_count": 99,
     "metadata": {},
     "output_type": "execute_result"
    }
   ],
   "source": [
    "x3 = np.random.randint(0 , 10, size=(4 , 4))\n",
    "np.random.seed(0)\n",
    "x3"
   ]
  },
  {
   "cell_type": "code",
   "execution_count": 94,
   "id": "b8de97e5",
   "metadata": {},
   "outputs": [
    {
     "data": {
      "text/plain": [
       "array([[5, 0, 3, 3],\n",
       "       [7, 9, 3, 5]])"
      ]
     },
     "execution_count": 94,
     "metadata": {},
     "output_type": "execute_result"
    }
   ],
   "source": [
    "x3[:2] # 2 rows, OR rows from 1st to 2nd"
   ]
  },
  {
   "cell_type": "code",
   "execution_count": 95,
   "id": "7fc7b3c7",
   "metadata": {},
   "outputs": [
    {
     "data": {
      "text/plain": [
       "8"
      ]
     },
     "execution_count": 95,
     "metadata": {},
     "output_type": "execute_result"
    }
   ],
   "source": [
    "x3[3 , 0] # On the 0th row of the 4th column"
   ]
  },
  {
   "cell_type": "code",
   "execution_count": 96,
   "id": "4813a30c",
   "metadata": {},
   "outputs": [
    {
     "data": {
      "text/plain": [
       "3"
      ]
     },
     "execution_count": 96,
     "metadata": {},
     "output_type": "execute_result"
    }
   ],
   "source": [
    "x3[1 , 2]"
   ]
  },
  {
   "cell_type": "code",
   "execution_count": 103,
   "id": "a0d4037a",
   "metadata": {},
   "outputs": [
    {
     "data": {
      "text/plain": [
       "array([4, 4, 4, 3])"
      ]
     },
     "execution_count": 103,
     "metadata": {},
     "output_type": "execute_result"
    }
   ],
   "source": [
    "x3[0 , 2] = 4\n",
    "x3[0]"
   ]
  },
  {
   "cell_type": "code",
   "execution_count": 107,
   "id": "6eeeffc6",
   "metadata": {},
   "outputs": [
    {
     "data": {
      "text/plain": [
       "array([4, 4, 4, 3])"
      ]
     },
     "execution_count": 107,
     "metadata": {},
     "output_type": "execute_result"
    }
   ],
   "source": [
    "x3[0]\n"
   ]
  },
  {
   "cell_type": "code",
   "execution_count": 121,
   "id": "2bd9270c",
   "metadata": {},
   "outputs": [
    {
     "data": {
      "text/plain": [
       "array([4, 3])"
      ]
     },
     "execution_count": 121,
     "metadata": {},
     "output_type": "execute_result"
    }
   ],
   "source": [
    "x3[0 , 2:4]"
   ]
  },
  {
   "cell_type": "code",
   "execution_count": 122,
   "id": "138f3bd1",
   "metadata": {},
   "outputs": [
    {
     "data": {
      "text/plain": [
       "array([[4, 4, 4, 3],\n",
       "       [7, 9, 3, 5],\n",
       "       [2, 4, 7, 6],\n",
       "       [8, 8, 1, 6]])"
      ]
     },
     "execution_count": 122,
     "metadata": {},
     "output_type": "execute_result"
    }
   ],
   "source": [
    "x3"
   ]
  },
  {
   "cell_type": "code",
   "execution_count": 163,
   "id": "b51d3394",
   "metadata": {},
   "outputs": [
    {
     "data": {
      "text/plain": [
       "array([[4],\n",
       "       [7],\n",
       "       [2],\n",
       "       [8]])"
      ]
     },
     "execution_count": 163,
     "metadata": {},
     "output_type": "execute_result"
    }
   ],
   "source": [
    "x3[:4 , 0::4] \n",
    "# Arrange array towards the 4th row starting at the 1st column"
   ]
  },
  {
   "cell_type": "code",
   "execution_count": 166,
   "id": "43fa7bd6",
   "metadata": {},
   "outputs": [
    {
     "data": {
      "text/plain": [
       "array([[4],\n",
       "       [3],\n",
       "       [7],\n",
       "       [1]])"
      ]
     },
     "execution_count": 166,
     "metadata": {},
     "output_type": "execute_result"
    }
   ],
   "source": [
    "x3[:4 , 2::3] "
   ]
  },
  {
   "cell_type": "code",
   "execution_count": 168,
   "id": "8d672802",
   "metadata": {},
   "outputs": [
    {
     "data": {
      "text/plain": [
       "array([4, 4, 4, 3])"
      ]
     },
     "execution_count": 168,
     "metadata": {},
     "output_type": "execute_result"
    }
   ],
   "source": [
    "x3[0] # log without print"
   ]
  },
  {
   "cell_type": "code",
   "execution_count": 169,
   "id": "5d84c30f",
   "metadata": {},
   "outputs": [
    {
     "name": "stdout",
     "output_type": "stream",
     "text": [
      "[4 4 4 3]\n"
     ]
    }
   ],
   "source": [
    "print(x3[0]) # Log with print"
   ]
  },
  {
   "cell_type": "code",
   "execution_count": 170,
   "id": "50fb2140",
   "metadata": {},
   "outputs": [
    {
     "name": "stdout",
     "output_type": "stream",
     "text": [
      "[[4 4 4 3]\n",
      " [7 9 3 5]\n",
      " [2 4 7 6]\n",
      " [8 8 1 6]]\n"
     ]
    }
   ],
   "source": [
    "print(x3)"
   ]
  },
  {
   "cell_type": "code",
   "execution_count": 171,
   "id": "b55dc24f",
   "metadata": {},
   "outputs": [
    {
     "data": {
      "text/plain": [
       "array([[4, 4],\n",
       "       [7, 9]])"
      ]
     },
     "execution_count": 171,
     "metadata": {},
     "output_type": "execute_result"
    }
   ],
   "source": [
    "x3[:2 , :2]"
   ]
  },
  {
   "cell_type": "code",
   "execution_count": 173,
   "id": "44e1ac04",
   "metadata": {},
   "outputs": [
    {
     "name": "stdout",
     "output_type": "stream",
     "text": [
      "[[4 4]\n",
      " [7 9]]\n"
     ]
    }
   ],
   "source": [
    "x3_sub_copy = x3[:2 , :2].copy()\n",
    "print(x3_sub_copy) # Copy?"
   ]
  },
  {
   "cell_type": "code",
   "execution_count": null,
   "id": "07ab3801",
   "metadata": {},
   "outputs": [],
   "source": []
  }
 ],
 "metadata": {
  "kernelspec": {
   "display_name": "Python 3",
   "language": "python",
   "name": "python3"
  },
  "language_info": {
   "codemirror_mode": {
    "name": "ipython",
    "version": 3
   },
   "file_extension": ".py",
   "mimetype": "text/x-python",
   "name": "python",
   "nbconvert_exporter": "python",
   "pygments_lexer": "ipython3",
   "version": "3.9.1"
  }
 },
 "nbformat": 4,
 "nbformat_minor": 5
}
