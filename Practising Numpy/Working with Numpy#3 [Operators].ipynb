{
 "cells": [
  {
   "cell_type": "code",
   "execution_count": 1,
   "id": "73c08679",
   "metadata": {},
   "outputs": [],
   "source": [
    "import numpy as np\n",
    "np.random.seed(0)"
   ]
  },
  {
   "cell_type": "code",
   "execution_count": 2,
   "id": "aa542d11",
   "metadata": {},
   "outputs": [],
   "source": [
    "values = np.random.randint(1,10,size=5)"
   ]
  },
  {
   "cell_type": "code",
   "execution_count": 3,
   "id": "ce29503a",
   "metadata": {},
   "outputs": [
    {
     "data": {
      "text/plain": [
       "array([6, 1, 4, 4, 8])"
      ]
     },
     "execution_count": 3,
     "metadata": {},
     "output_type": "execute_result"
    }
   ],
   "source": [
    "values"
   ]
  },
  {
   "cell_type": "code",
   "execution_count": 9,
   "id": "91563d83",
   "metadata": {},
   "outputs": [
    {
     "data": {
      "text/plain": [
       "array([2.12199579e-314, 2.48273508e-312, 4.16991405e-321, 3.79442416e-321,\n",
       "       0.00000000e+000])"
      ]
     },
     "execution_count": 9,
     "metadata": {},
     "output_type": "execute_result"
    }
   ],
   "source": [
    "# returns without entries\n",
    "# dtype = float\n",
    "np.empty(len(values))"
   ]
  },
  {
   "cell_type": "code",
   "execution_count": 5,
   "id": "b15b01ca",
   "metadata": {},
   "outputs": [
    {
     "data": {
      "text/plain": [
       "array([0.2       , 0.14285714, 0.16666667, 0.25      , 0.11111111])"
      ]
     },
     "execution_count": 5,
     "metadata": {},
     "output_type": "execute_result"
    }
   ],
   "source": [
    "import numpy as np\n",
    "# Finding the reciprocals of the entries\n",
    "def reciprocals(val):\n",
    "    output = np.empty(len(val) # See Out[9]\n",
    "    for i in range(len(val)):\n",
    "        output[i] = 1.0/val[i]\n",
    "    return output\n",
    "\n",
    "\n",
    "\n",
    "values = np.random.randint(1,10,size=5)\n",
    "reciprocals(values)"
   ]
  },
  {
   "cell_type": "code",
   "execution_count": 9,
   "id": "d325ce02",
   "metadata": {},
   "outputs": [
    {
     "name": "stdout",
     "output_type": "stream",
     "text": [
      "[0.2        0.14285714 0.16666667 0.25       0.11111111]\n",
      "[0.2        0.14285714 0.16666667 0.25       0.11111111]\n"
     ]
    }
   ],
   "source": [
    "print(reciprocals(values)) # function\n",
    "print(1/values) # no function"
   ]
  },
  {
   "cell_type": "code",
   "execution_count": 19,
   "id": "c66eba85",
   "metadata": {},
   "outputs": [
    {
     "name": "stdout",
     "output_type": "stream",
     "text": [
      "x     =  [0 1 2 3]\n",
      "x + 5 =  [5 6 7 8]\n",
      "x - 3 =  [-3 -2 -1  0]\n",
      "x * 2 =  [0 2 4 6]\n",
      "x / 2 =  [0.  0.5 1.  1.5]\n",
      "x // 2 =  [0 0 1 1]\n"
     ]
    }
   ],
   "source": [
    "# Exploring ufuncs and numpy operators\n",
    "x = np.arange(4)\n",
    "print(\"x     = \" , x)       # Normal\n",
    "print(\"x + 5 = \" , x + 5)   # Starting at 5\n",
    "print(\"x - 3 = \" , x - 3)   # Starting at -3\n",
    "print(\"x * 2 = \" , x * 2)   # Starting at 0 and increase 2 times\n",
    "print(\"x / 2 = \" , x / 2)   # Starting at 0 and prints the 1/2 of the numbers\n",
    "print(\"x // 2 = \" , x // 2) # Starting at 0 and shows the floor division of 2\n",
    "print(\"-x    = \" , -x)      # Instructing the array to reverse \n",
    "print(\"x ** 2 = \", x ** 2)  # Power of 2 [exponentiation]\n",
    "print(\"x % 2 = \" , x % 2)   # Percentage of 2 "
   ]
  },
  {
   "cell_type": "code",
   "execution_count": 22,
   "id": "2d245a84",
   "metadata": {},
   "outputs": [
    {
     "name": "stdout",
     "output_type": "stream",
     "text": [
      "[2 3 4 5]\n"
     ]
    }
   ],
   "source": [
    "np.add(x, 2)  # Number starting at 2\n",
    "print(x + 2 ) # Number starting at 2"
   ]
  },
  {
   "cell_type": "code",
   "execution_count": 23,
   "id": "062aeaae",
   "metadata": {},
   "outputs": [
    {
     "data": {
      "text/plain": [
       "array([5, 6, 2, 5, 7, 9])"
      ]
     },
     "execution_count": 23,
     "metadata": {},
     "output_type": "execute_result"
    }
   ],
   "source": [
    "# Using numpy absolute value [abs]\n",
    "x1 = [-5 , -6, -2, -5, -7, -9]\n",
    "np.absolute(x1)"
   ]
  },
  {
   "cell_type": "code",
   "execution_count": 30,
   "id": "082aaf31",
   "metadata": {},
   "outputs": [
    {
     "name": "stdout",
     "output_type": "stream",
     "text": [
      "theta =  [0.         1.57079633 3.14159265]\n",
      "sin(theta) =  [0.0000000e+00 1.0000000e+00 1.2246468e-16]\n",
      "cos(theta) =  [ 1.000000e+00  6.123234e-17 -1.000000e+00]\n",
      "tan(theta) =  [ 0.00000000e+00  1.63312394e+16 -1.22464680e-16]\n"
     ]
    }
   ],
   "source": [
    "# Trigometric supported\n",
    "\n",
    "theta = np.linspace(0 , np.pi , 3)\n",
    "\n",
    "print(\"theta = \", theta)\n",
    "print(\"sin(theta) = \", np.sin(theta))      # sin theta\n",
    "print(\"cos(theta) = \", np.cos(theta))      # cos theta\n",
    "print(\"tan(theta) = \", np.tan(theta))      # tan theta"
   ]
  },
  {
   "cell_type": "code",
   "execution_count": 28,
   "id": "a3f998af",
   "metadata": {},
   "outputs": [
    {
     "name": "stdout",
     "output_type": "stream",
     "text": [
      "[0.         1.57079633 3.14159265]\n"
     ]
    }
   ],
   "source": [
    "print(theta)"
   ]
  },
  {
   "cell_type": "code",
   "execution_count": 29,
   "id": "2b97d596",
   "metadata": {},
   "outputs": [
    {
     "name": "stdout",
     "output_type": "stream",
     "text": [
      "3.141592653589793\n"
     ]
    }
   ],
   "source": [
    "print(np.pi) # Shows the pi"
   ]
  },
  {
   "cell_type": "code",
   "execution_count": 34,
   "id": "eb87571e",
   "metadata": {},
   "outputs": [
    {
     "name": "stdout",
     "output_type": "stream",
     "text": [
      "x = [0 1 2 3 4]\n",
      "e^x = [ 1.          2.71828183  7.3890561  20.08553692 54.59815003]\n",
      "2^x = [ 1.  2.  4.  8. 16.]\n",
      "3^x = [ 1  3  9 27 81]\n"
     ]
    }
   ],
   "source": [
    "x = np.arange(5) # 0 1 2 3 4\n",
    "print(\"x =\", x)\n",
    "print(\"e^x =\", np.exp(x)) # No power\n",
    "print(\"2^x =\", np.exp2(x)) # 2^x\n",
    "print(\"3^x =\", np.power(3, x)) # 3^x\n"
   ]
  },
  {
   "cell_type": "code",
   "execution_count": 39,
   "id": "6f2f065e",
   "metadata": {},
   "outputs": [
    {
     "name": "stdout",
     "output_type": "stream",
     "text": [
      "x       =  [1, 2, 3]\n",
      "log(x) =  [0.         0.69314718 1.09861229]\n",
      "log2(x) =  [0.        1.        1.5849625]\n",
      "log(1 + x) =  [0.69314718 1.09861229 1.38629436]\n"
     ]
    }
   ],
   "source": [
    "# Logorithm supported\n",
    "# np.log(x) or np.ln(x)\n",
    "x = [1 , 2 , 3]\n",
    "print(\"x       = \" , x)\n",
    "print(\"log(x) = \" , np.log(x))\n",
    "print(\"log2(x) = \" , np.log2(x))\n",
    "print(\"log(1 + x) = \"  , np.log1p(x))\n"
   ]
  },
  {
   "cell_type": "code",
   "execution_count": 42,
   "id": "61d02ea2",
   "metadata": {},
   "outputs": [
    {
     "name": "stdout",
     "output_type": "stream",
     "text": [
      "exp(x) - 1 =  [ 1.71828183  6.3890561  19.08553692]\n",
      "log(x) + 1 =  [0.69314718 1.09861229 1.38629436]\n"
     ]
    }
   ],
   "source": [
    "# Find the exponential value\n",
    "print(\"exp(x) - 1 = \" , np.expm1(x)) # exponential of x minus 1[expm1]\n",
    "print(\"log(x) + 1 = \" , np.log1p(x)) # logorithm of x plus 1"
   ]
  },
  {
   "cell_type": "code",
   "execution_count": null,
   "id": "bc465fee",
   "metadata": {},
   "outputs": [],
   "source": []
  }
 ],
 "metadata": {
  "kernelspec": {
   "display_name": "Python 3",
   "language": "python",
   "name": "python3"
  },
  "language_info": {
   "codemirror_mode": {
    "name": "ipython",
    "version": 3
   },
   "file_extension": ".py",
   "mimetype": "text/x-python",
   "name": "python",
   "nbconvert_exporter": "python",
   "pygments_lexer": "ipython3",
   "version": "3.9.1"
  }
 },
 "nbformat": 4,
 "nbformat_minor": 5
}
